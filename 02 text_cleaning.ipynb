{
 "cells": [
  {
   "cell_type": "markdown",
   "metadata": {},
   "source": [
    "# Text cleaning\n",
    "\n",
    "1. Lowering\n",
    "2. Removing hashtags & mentions\n",
    "3. Removing url/link\n",
    "4. Removing punctuations\n",
    "5. Removing non-alpha numeric\n",
    "6. Tokenization\n",
    "7. Stop words removal"
   ]
  },
  {
   "cell_type": "code",
   "execution_count": 10,
   "metadata": {},
   "outputs": [],
   "source": [
    "# contoh tweet\n",
    "tweet = \"Get ready for #NatGeoEarthDay! Join us on 4/21 for an evening of music and celebration, exploration and inspiration https://on.natgeo.com/3t0wzQy.\""
   ]
  },
  {
   "cell_type": "code",
   "execution_count": 11,
   "metadata": {},
   "outputs": [
    {
     "name": "stdout",
     "output_type": "stream",
     "text": [
      "Get ready for #NatGeoEarthDay! Join us on 4/21 for an evening of music and celebration, exploration and inspiration https://on.natgeo.com/3t0wzQy.\n"
     ]
    }
   ],
   "source": [
    "print(tweet)"
   ]
  },
  {
   "cell_type": "markdown",
   "metadata": {},
   "source": [
    "## 1. Lowering"
   ]
  },
  {
   "cell_type": "code",
   "execution_count": 12,
   "metadata": {},
   "outputs": [
    {
     "data": {
      "text/plain": [
       "'get ready for #natgeoearthday! join us on 4/21 for an evening of music and celebration, exploration and inspiration https://on.natgeo.com/3t0wzqy.'"
      ]
     },
     "execution_count": 12,
     "metadata": {},
     "output_type": "execute_result"
    }
   ],
   "source": [
    "temp = tweet.lower()\n",
    "temp"
   ]
  },
  {
   "cell_type": "markdown",
   "metadata": {},
   "source": [
    "## 2. Removing hashtags & mentions"
   ]
  },
  {
   "cell_type": "code",
   "execution_count": 13,
   "metadata": {},
   "outputs": [],
   "source": [
    "import re"
   ]
  },
  {
   "cell_type": "code",
   "execution_count": 14,
   "metadata": {},
   "outputs": [
    {
     "data": {
      "text/plain": [
       "'get ready for ! join us on 4/21 for an evening of music and celebration, exploration and inspiration https://on.natgeo.com/3t0wzqy.'"
      ]
     },
     "execution_count": 14,
     "metadata": {},
     "output_type": "execute_result"
    }
   ],
   "source": [
    "temp = re.sub(\"@[A-Za-z0-9_]+\", \"\", temp)\n",
    "temp = re.sub(\"#[A-Za-z0-9_]+\", \"\", temp)\n",
    "temp"
   ]
  },
  {
   "cell_type": "markdown",
   "metadata": {},
   "source": [
    "## 3. Removing url/link"
   ]
  },
  {
   "cell_type": "code",
   "execution_count": 15,
   "metadata": {},
   "outputs": [
    {
     "data": {
      "text/plain": [
       "'get ready for ! join us on 4/21 for an evening of music and celebration, exploration and inspiration '"
      ]
     },
     "execution_count": 15,
     "metadata": {},
     "output_type": "execute_result"
    }
   ],
   "source": [
    "temp = re.sub(r\"http\\S+\", \"\", temp)\n",
    "temp = re.sub(r\"www.\\S+\", \"\", temp)\n",
    "temp"
   ]
  },
  {
   "cell_type": "markdown",
   "metadata": {},
   "source": [
    "## 4. Removing punctuations"
   ]
  },
  {
   "cell_type": "code",
   "execution_count": 16,
   "metadata": {},
   "outputs": [
    {
     "data": {
      "text/plain": [
       "'get ready for  join us on 4/21 for an evening of music and celebration, exploration and inspiration '"
      ]
     },
     "execution_count": 16,
     "metadata": {},
     "output_type": "execute_result"
    }
   ],
   "source": [
    "temp = re.sub(\"[()!?]\", \"\", temp)\n",
    "temp = re.sub(\"\\[.*?\\]\", \"\", temp)\n",
    "temp"
   ]
  },
  {
   "cell_type": "markdown",
   "metadata": {},
   "source": [
    "## 5. Removing non-alpha numeric"
   ]
  },
  {
   "cell_type": "code",
   "execution_count": 17,
   "metadata": {},
   "outputs": [
    {
     "data": {
      "text/plain": [
       "'get ready for  join us on 4 21 for an evening of music and celebration  exploration and inspiration '"
      ]
     },
     "execution_count": 17,
     "metadata": {},
     "output_type": "execute_result"
    }
   ],
   "source": [
    "temp = re.sub(\"[^a-z0-9]\", \" \", temp)\n",
    "temp"
   ]
  },
  {
   "cell_type": "markdown",
   "metadata": {},
   "source": [
    "## 6. Tokenization"
   ]
  },
  {
   "cell_type": "code",
   "execution_count": 18,
   "metadata": {},
   "outputs": [
    {
     "data": {
      "text/plain": [
       "['get',\n",
       " 'ready',\n",
       " 'for',\n",
       " 'join',\n",
       " 'us',\n",
       " 'on',\n",
       " '4',\n",
       " '21',\n",
       " 'for',\n",
       " 'an',\n",
       " 'evening',\n",
       " 'of',\n",
       " 'music',\n",
       " 'and',\n",
       " 'celebration',\n",
       " 'exploration',\n",
       " 'and',\n",
       " 'inspiration']"
      ]
     },
     "execution_count": 18,
     "metadata": {},
     "output_type": "execute_result"
    }
   ],
   "source": [
    "temp = temp.split()\n",
    "temp"
   ]
  },
  {
   "cell_type": "markdown",
   "metadata": {},
   "source": [
    "## 7. Stop words removal"
   ]
  },
  {
   "cell_type": "code",
   "execution_count": 30,
   "metadata": {},
   "outputs": [],
   "source": [
    "stopwords = [\"for\", \"on\", \"an\", \"a\", \"of\", \"and\", \"in\", \"the\", \"to\", \"from\", \"rt\"]"
   ]
  },
  {
   "cell_type": "code",
   "execution_count": 31,
   "metadata": {},
   "outputs": [],
   "source": [
    "temp = [w for w in temp if not w in stopwords]\n",
    "temp = \" \".join(word for word in temp)"
   ]
  },
  {
   "cell_type": "code",
   "execution_count": 21,
   "metadata": {},
   "outputs": [
    {
     "data": {
      "text/plain": [
       "'get ready join us 4 21 evening music celebration exploration inspiration'"
      ]
     },
     "execution_count": 21,
     "metadata": {},
     "output_type": "execute_result"
    }
   ],
   "source": [
    "temp"
   ]
  },
  {
   "cell_type": "markdown",
   "metadata": {},
   "source": [
    "## cleaning function"
   ]
  },
  {
   "cell_type": "code",
   "execution_count": 22,
   "metadata": {},
   "outputs": [],
   "source": [
    "import numpy as np\n",
    "import re\n",
    " \n",
    "def clean_tweet(tweet):\n",
    "    if type(tweet) == np.float:\n",
    "        return \"\"\n",
    "    temp = tweet.lower()\n",
    "    temp = re.sub(\"'\", \"\", temp) # to avoid removing contractions in english\n",
    "    temp = re.sub(\"@[A-Za-z0-9_]+\",\"\", temp)\n",
    "    temp = re.sub(\"#[A-Za-z0-9_]+\",\"\", temp)\n",
    "    temp = re.sub(r'http\\S+', '', temp)\n",
    "    temp = re.sub('[()!?]', ' ', temp)\n",
    "    temp = re.sub('\\[.*?\\]',' ', temp)\n",
    "    temp = re.sub(\"[^a-z0-9]\",\" \", temp)\n",
    "    temp = temp.split()\n",
    "    temp = [w for w in temp if not w in stopwords]\n",
    "    temp = \" \".join(word for word in temp)\n",
    "    return temp"
   ]
  },
  {
   "cell_type": "code",
   "execution_count": 23,
   "metadata": {},
   "outputs": [
    {
     "data": {
      "text/plain": [
       "'Get ready for #NatGeoEarthDay! Join us on 4/21 for an evening of music and celebration, exploration and inspiration https://on.natgeo.com/3t0wzQy.'"
      ]
     },
     "execution_count": 23,
     "metadata": {},
     "output_type": "execute_result"
    }
   ],
   "source": [
    "tweet"
   ]
  },
  {
   "cell_type": "code",
   "execution_count": 24,
   "metadata": {},
   "outputs": [
    {
     "data": {
      "text/plain": [
       "'get ready join us 4 21 evening music celebration exploration inspiration'"
      ]
     },
     "execution_count": 24,
     "metadata": {},
     "output_type": "execute_result"
    }
   ],
   "source": [
    "clean_tweet(tweet)"
   ]
  },
  {
   "cell_type": "markdown",
   "metadata": {},
   "source": [
    "## Real dataset"
   ]
  },
  {
   "cell_type": "code",
   "execution_count": 25,
   "metadata": {},
   "outputs": [],
   "source": [
    "import pandas as pd"
   ]
  },
  {
   "cell_type": "code",
   "execution_count": 26,
   "metadata": {},
   "outputs": [],
   "source": [
    "df = pd.read_csv('result.csv', names=['id','user','datetime','text'])"
   ]
  },
  {
   "cell_type": "code",
   "execution_count": 27,
   "metadata": {},
   "outputs": [
    {
     "data": {
      "text/html": [
       "<div>\n",
       "<style scoped>\n",
       "    .dataframe tbody tr th:only-of-type {\n",
       "        vertical-align: middle;\n",
       "    }\n",
       "\n",
       "    .dataframe tbody tr th {\n",
       "        vertical-align: top;\n",
       "    }\n",
       "\n",
       "    .dataframe thead th {\n",
       "        text-align: right;\n",
       "    }\n",
       "</style>\n",
       "<table border=\"1\" class=\"dataframe\">\n",
       "  <thead>\n",
       "    <tr style=\"text-align: right;\">\n",
       "      <th></th>\n",
       "      <th>id</th>\n",
       "      <th>user</th>\n",
       "      <th>datetime</th>\n",
       "      <th>text</th>\n",
       "    </tr>\n",
       "  </thead>\n",
       "  <tbody>\n",
       "    <tr>\n",
       "      <th>0</th>\n",
       "      <td>1451102531766136833</td>\n",
       "      <td>carew_mad</td>\n",
       "      <td>2021-10-21 08:26:18+00:00</td>\n",
       "      <td>RT @PeterSweden7: Canada🇨🇦: They are arresting...</td>\n",
       "    </tr>\n",
       "    <tr>\n",
       "      <th>1</th>\n",
       "      <td>1451102532021809154</td>\n",
       "      <td>smileyperson</td>\n",
       "      <td>2021-10-21 08:26:18+00:00</td>\n",
       "      <td>RT @YungYinkv: A young lady and I both walked ...</td>\n",
       "    </tr>\n",
       "    <tr>\n",
       "      <th>2</th>\n",
       "      <td>1451102533364031489</td>\n",
       "      <td>PndasPntH0use</td>\n",
       "      <td>2021-10-21 08:26:18+00:00</td>\n",
       "      <td>RT @welovejennalove: 🎉🎈Wow! 30k followers. Tha...</td>\n",
       "    </tr>\n",
       "    <tr>\n",
       "      <th>3</th>\n",
       "      <td>1451102533552787457</td>\n",
       "      <td>RTHhan20</td>\n",
       "      <td>2021-10-21 08:26:18+00:00</td>\n",
       "      <td>RT @raufsissay: Yes. She has a valid point. Bu...</td>\n",
       "    </tr>\n",
       "    <tr>\n",
       "      <th>4</th>\n",
       "      <td>1451102533804507140</td>\n",
       "      <td>AgencyWebcam</td>\n",
       "      <td>2021-10-21 08:26:18+00:00</td>\n",
       "      <td>RT @welovejennalove: 🎉🎈Wow! 30k followers. Tha...</td>\n",
       "    </tr>\n",
       "    <tr>\n",
       "      <th>5</th>\n",
       "      <td>1451102534626594816</td>\n",
       "      <td>savagegamer17</td>\n",
       "      <td>2021-10-21 08:26:19+00:00</td>\n",
       "      <td>RT @XAG_official: #RuralWomen play a vital rol...</td>\n",
       "    </tr>\n",
       "    <tr>\n",
       "      <th>6</th>\n",
       "      <td>1451102537700962307</td>\n",
       "      <td>cuxxxom</td>\n",
       "      <td>2021-10-21 08:26:19+00:00</td>\n",
       "      <td>RT @KhaosodEnglish: Jay Fai, at last, we see e...</td>\n",
       "    </tr>\n",
       "    <tr>\n",
       "      <th>7</th>\n",
       "      <td>1451102538242174979</td>\n",
       "      <td>seitther</td>\n",
       "      <td>2021-10-21 08:26:19+00:00</td>\n",
       "      <td>how the hell did i not get food poisining or f...</td>\n",
       "    </tr>\n",
       "    <tr>\n",
       "      <th>8</th>\n",
       "      <td>1451102539588440068</td>\n",
       "      <td>ray_rayalder</td>\n",
       "      <td>2021-10-21 08:26:20+00:00</td>\n",
       "      <td>RT @sammielee46: Still no ambulance for my 86 ...</td>\n",
       "    </tr>\n",
       "    <tr>\n",
       "      <th>9</th>\n",
       "      <td>1451102541895307266</td>\n",
       "      <td>Luckylove6469</td>\n",
       "      <td>2021-10-21 08:26:20+00:00</td>\n",
       "      <td>RT @harperjones69: Grab my hips and make me sc...</td>\n",
       "    </tr>\n",
       "    <tr>\n",
       "      <th>10</th>\n",
       "      <td>1451102542125944835</td>\n",
       "      <td>nicolebby88_</td>\n",
       "      <td>2021-10-21 08:26:20+00:00</td>\n",
       "      <td>RT @misscelebrian: Grab them. https://t.co/8a8...</td>\n",
       "    </tr>\n",
       "    <tr>\n",
       "      <th>11</th>\n",
       "      <td>1451102543443079172</td>\n",
       "      <td>roman_wacho</td>\n",
       "      <td>2021-10-21 08:26:21+00:00</td>\n",
       "      <td>RT @sammielee46: Still no ambulance for my 86 ...</td>\n",
       "    </tr>\n",
       "    <tr>\n",
       "      <th>12</th>\n",
       "      <td>1451102545636732932</td>\n",
       "      <td>BrookesPics</td>\n",
       "      <td>2021-10-21 08:26:21+00:00</td>\n",
       "      <td>That time when I was in BBC Good Food magazine...</td>\n",
       "    </tr>\n",
       "    <tr>\n",
       "      <th>13</th>\n",
       "      <td>1451102545917714432</td>\n",
       "      <td>OsamaMoawadAli1</td>\n",
       "      <td>2021-10-21 08:26:21+00:00</td>\n",
       "      <td>Enough of condemnation, denunciation, you &amp;amp...</td>\n",
       "    </tr>\n",
       "    <tr>\n",
       "      <th>14</th>\n",
       "      <td>1451102548153311237</td>\n",
       "      <td>PiNKP0IS0NSTEAM</td>\n",
       "      <td>2021-10-21 08:26:22+00:00</td>\n",
       "      <td>RT @ZeroWisdom: Crazy:B order\\n\\nRinne : don't...</td>\n",
       "    </tr>\n",
       "    <tr>\n",
       "      <th>15</th>\n",
       "      <td>1451102551848464386</td>\n",
       "      <td>BartonSheryll</td>\n",
       "      <td>2021-10-21 08:26:23+00:00</td>\n",
       "      <td>RT @Mahi_GA: No food. No medicine.\\nNo banks. ...</td>\n",
       "    </tr>\n",
       "    <tr>\n",
       "      <th>16</th>\n",
       "      <td>1451102553069006848</td>\n",
       "      <td>AinweruhangaMa1</td>\n",
       "      <td>2021-10-21 08:26:23+00:00</td>\n",
       "      <td>RT @citizen_uganda: 𝗔𝗴𝗿𝗼-𝘀𝗲𝗰𝘂𝗿𝗶𝘁𝘆:This award w...</td>\n",
       "    </tr>\n",
       "    <tr>\n",
       "      <th>17</th>\n",
       "      <td>1451102554008350720</td>\n",
       "      <td>anemonehupehen1</td>\n",
       "      <td>2021-10-21 08:26:23+00:00</td>\n",
       "      <td>As I recall,I'm not good at making Japanese gr...</td>\n",
       "    </tr>\n",
       "    <tr>\n",
       "      <th>18</th>\n",
       "      <td>1451102554859917315</td>\n",
       "      <td>Chelle15_15</td>\n",
       "      <td>2021-10-21 08:26:23+00:00</td>\n",
       "      <td>RT @DarthKonji_Sen: Say you’re the oldest daug...</td>\n",
       "    </tr>\n",
       "    <tr>\n",
       "      <th>19</th>\n",
       "      <td>1451102555174494208</td>\n",
       "      <td>handcraftedtrav</td>\n",
       "      <td>2021-10-21 08:26:23+00:00</td>\n",
       "      <td>Fun and delicious food walk in Porto. #handcra...</td>\n",
       "    </tr>\n",
       "    <tr>\n",
       "      <th>20</th>\n",
       "      <td>1451102558177615875</td>\n",
       "      <td>Yel0bear</td>\n",
       "      <td>2021-10-21 08:26:24+00:00</td>\n",
       "      <td>RT @BathalaX: Loving this article from the @ph...</td>\n",
       "    </tr>\n",
       "    <tr>\n",
       "      <th>21</th>\n",
       "      <td>1451102559045832707</td>\n",
       "      <td>bkgwinks</td>\n",
       "      <td>2021-10-21 08:26:24+00:00</td>\n",
       "      <td>RT @TheQueenIdaa: Please don't scroll past thi...</td>\n",
       "    </tr>\n",
       "    <tr>\n",
       "      <th>22</th>\n",
       "      <td>1451102561327456258</td>\n",
       "      <td>harirebelstar</td>\n",
       "      <td>2021-10-21 08:26:25+00:00</td>\n",
       "      <td>RT @KonaseemaRebels: Amalapuram ( East Godavar...</td>\n",
       "    </tr>\n",
       "    <tr>\n",
       "      <th>23</th>\n",
       "      <td>1451102561486860288</td>\n",
       "      <td>Agrimasters</td>\n",
       "      <td>2021-10-21 08:26:25+00:00</td>\n",
       "      <td>Some great initiatives to solve this problem &amp;...</td>\n",
       "    </tr>\n",
       "    <tr>\n",
       "      <th>24</th>\n",
       "      <td>1451102562858455043</td>\n",
       "      <td>FoodBioGCU</td>\n",
       "      <td>2021-10-21 08:26:25+00:00</td>\n",
       "      <td>RT @TCwll: A very welcome development from @sc...</td>\n",
       "    </tr>\n",
       "    <tr>\n",
       "      <th>25</th>\n",
       "      <td>1451102564087259136</td>\n",
       "      <td>zhangfei987651</td>\n",
       "      <td>2021-10-21 08:26:26+00:00</td>\n",
       "      <td>@Reuters North Korea continues to manufacture ...</td>\n",
       "    </tr>\n",
       "    <tr>\n",
       "      <th>26</th>\n",
       "      <td>1451102564573802496</td>\n",
       "      <td>discoursespo</td>\n",
       "      <td>2021-10-21 08:26:26+00:00</td>\n",
       "      <td>putting garlic up your ass is kinda a safe food</td>\n",
       "    </tr>\n",
       "    <tr>\n",
       "      <th>27</th>\n",
       "      <td>1451102567627468802</td>\n",
       "      <td>swickte415</td>\n",
       "      <td>2021-10-21 08:26:26+00:00</td>\n",
       "      <td>RT @_DavidCWade: My book The amazing adventure...</td>\n",
       "    </tr>\n",
       "    <tr>\n",
       "      <th>28</th>\n",
       "      <td>1451102567744917509</td>\n",
       "      <td>abuba_Toho</td>\n",
       "      <td>2021-10-21 08:26:26+00:00</td>\n",
       "      <td>@KennlitoeWanji2 @amerix Hey sir thanks for yo...</td>\n",
       "    </tr>\n",
       "    <tr>\n",
       "      <th>29</th>\n",
       "      <td>1451102568717828099</td>\n",
       "      <td>vsrini72</td>\n",
       "      <td>2021-10-21 08:26:27+00:00</td>\n",
       "      <td>I never had🤔☺️</td>\n",
       "    </tr>\n",
       "    <tr>\n",
       "      <th>30</th>\n",
       "      <td>1451102569326002184</td>\n",
       "      <td>thestanqbyki</td>\n",
       "      <td>2021-10-21 08:26:27+00:00</td>\n",
       "      <td>:(((( tauuuuuu korang busy :(((( don’t skip yo...</td>\n",
       "    </tr>\n",
       "    <tr>\n",
       "      <th>31</th>\n",
       "      <td>1451102571024855047</td>\n",
       "      <td>vaneza_ashlei</td>\n",
       "      <td>2021-10-21 08:26:27+00:00</td>\n",
       "      <td>fast food really make me feel like i’m being c...</td>\n",
       "    </tr>\n",
       "    <tr>\n",
       "      <th>32</th>\n",
       "      <td>1451102574078160896</td>\n",
       "      <td>albayaanaat</td>\n",
       "      <td>2021-10-21 08:26:28+00:00</td>\n",
       "      <td>H-3 close pre-order, grab it fast🔥</td>\n",
       "    </tr>\n",
       "    <tr>\n",
       "      <th>33</th>\n",
       "      <td>1451102576699744259</td>\n",
       "      <td>ttykji</td>\n",
       "      <td>2021-10-21 08:26:29+00:00</td>\n",
       "      <td>RT @90spictures_: 90’s anime food https://t.co...</td>\n",
       "    </tr>\n",
       "    <tr>\n",
       "      <th>34</th>\n",
       "      <td>1451102578989797380</td>\n",
       "      <td>who_am_I_2021</td>\n",
       "      <td>2021-10-21 08:26:29+00:00</td>\n",
       "      <td>RT @ThePratOfficial: @sarkar_swati @maidros78 ...</td>\n",
       "    </tr>\n",
       "  </tbody>\n",
       "</table>\n",
       "</div>"
      ],
      "text/plain": [
       "                     id             user                   datetime  \\\n",
       "0   1451102531766136833        carew_mad  2021-10-21 08:26:18+00:00   \n",
       "1   1451102532021809154     smileyperson  2021-10-21 08:26:18+00:00   \n",
       "2   1451102533364031489    PndasPntH0use  2021-10-21 08:26:18+00:00   \n",
       "3   1451102533552787457         RTHhan20  2021-10-21 08:26:18+00:00   \n",
       "4   1451102533804507140     AgencyWebcam  2021-10-21 08:26:18+00:00   \n",
       "5   1451102534626594816    savagegamer17  2021-10-21 08:26:19+00:00   \n",
       "6   1451102537700962307          cuxxxom  2021-10-21 08:26:19+00:00   \n",
       "7   1451102538242174979         seitther  2021-10-21 08:26:19+00:00   \n",
       "8   1451102539588440068     ray_rayalder  2021-10-21 08:26:20+00:00   \n",
       "9   1451102541895307266    Luckylove6469  2021-10-21 08:26:20+00:00   \n",
       "10  1451102542125944835     nicolebby88_  2021-10-21 08:26:20+00:00   \n",
       "11  1451102543443079172      roman_wacho  2021-10-21 08:26:21+00:00   \n",
       "12  1451102545636732932      BrookesPics  2021-10-21 08:26:21+00:00   \n",
       "13  1451102545917714432  OsamaMoawadAli1  2021-10-21 08:26:21+00:00   \n",
       "14  1451102548153311237  PiNKP0IS0NSTEAM  2021-10-21 08:26:22+00:00   \n",
       "15  1451102551848464386    BartonSheryll  2021-10-21 08:26:23+00:00   \n",
       "16  1451102553069006848  AinweruhangaMa1  2021-10-21 08:26:23+00:00   \n",
       "17  1451102554008350720  anemonehupehen1  2021-10-21 08:26:23+00:00   \n",
       "18  1451102554859917315      Chelle15_15  2021-10-21 08:26:23+00:00   \n",
       "19  1451102555174494208  handcraftedtrav  2021-10-21 08:26:23+00:00   \n",
       "20  1451102558177615875         Yel0bear  2021-10-21 08:26:24+00:00   \n",
       "21  1451102559045832707         bkgwinks  2021-10-21 08:26:24+00:00   \n",
       "22  1451102561327456258    harirebelstar  2021-10-21 08:26:25+00:00   \n",
       "23  1451102561486860288      Agrimasters  2021-10-21 08:26:25+00:00   \n",
       "24  1451102562858455043       FoodBioGCU  2021-10-21 08:26:25+00:00   \n",
       "25  1451102564087259136   zhangfei987651  2021-10-21 08:26:26+00:00   \n",
       "26  1451102564573802496     discoursespo  2021-10-21 08:26:26+00:00   \n",
       "27  1451102567627468802       swickte415  2021-10-21 08:26:26+00:00   \n",
       "28  1451102567744917509       abuba_Toho  2021-10-21 08:26:26+00:00   \n",
       "29  1451102568717828099         vsrini72  2021-10-21 08:26:27+00:00   \n",
       "30  1451102569326002184     thestanqbyki  2021-10-21 08:26:27+00:00   \n",
       "31  1451102571024855047    vaneza_ashlei  2021-10-21 08:26:27+00:00   \n",
       "32  1451102574078160896      albayaanaat  2021-10-21 08:26:28+00:00   \n",
       "33  1451102576699744259           ttykji  2021-10-21 08:26:29+00:00   \n",
       "34  1451102578989797380    who_am_I_2021  2021-10-21 08:26:29+00:00   \n",
       "\n",
       "                                                 text  \n",
       "0   RT @PeterSweden7: Canada🇨🇦: They are arresting...  \n",
       "1   RT @YungYinkv: A young lady and I both walked ...  \n",
       "2   RT @welovejennalove: 🎉🎈Wow! 30k followers. Tha...  \n",
       "3   RT @raufsissay: Yes. She has a valid point. Bu...  \n",
       "4   RT @welovejennalove: 🎉🎈Wow! 30k followers. Tha...  \n",
       "5   RT @XAG_official: #RuralWomen play a vital rol...  \n",
       "6   RT @KhaosodEnglish: Jay Fai, at last, we see e...  \n",
       "7   how the hell did i not get food poisining or f...  \n",
       "8   RT @sammielee46: Still no ambulance for my 86 ...  \n",
       "9   RT @harperjones69: Grab my hips and make me sc...  \n",
       "10  RT @misscelebrian: Grab them. https://t.co/8a8...  \n",
       "11  RT @sammielee46: Still no ambulance for my 86 ...  \n",
       "12  That time when I was in BBC Good Food magazine...  \n",
       "13  Enough of condemnation, denunciation, you &amp...  \n",
       "14  RT @ZeroWisdom: Crazy:B order\\n\\nRinne : don't...  \n",
       "15  RT @Mahi_GA: No food. No medicine.\\nNo banks. ...  \n",
       "16  RT @citizen_uganda: 𝗔𝗴𝗿𝗼-𝘀𝗲𝗰𝘂𝗿𝗶𝘁𝘆:This award w...  \n",
       "17  As I recall,I'm not good at making Japanese gr...  \n",
       "18  RT @DarthKonji_Sen: Say you’re the oldest daug...  \n",
       "19  Fun and delicious food walk in Porto. #handcra...  \n",
       "20  RT @BathalaX: Loving this article from the @ph...  \n",
       "21  RT @TheQueenIdaa: Please don't scroll past thi...  \n",
       "22  RT @KonaseemaRebels: Amalapuram ( East Godavar...  \n",
       "23  Some great initiatives to solve this problem &...  \n",
       "24  RT @TCwll: A very welcome development from @sc...  \n",
       "25  @Reuters North Korea continues to manufacture ...  \n",
       "26    putting garlic up your ass is kinda a safe food  \n",
       "27  RT @_DavidCWade: My book The amazing adventure...  \n",
       "28  @KennlitoeWanji2 @amerix Hey sir thanks for yo...  \n",
       "29                                     I never had🤔☺️  \n",
       "30  :(((( tauuuuuu korang busy :(((( don’t skip yo...  \n",
       "31  fast food really make me feel like i’m being c...  \n",
       "32                 H-3 close pre-order, grab it fast🔥  \n",
       "33  RT @90spictures_: 90’s anime food https://t.co...  \n",
       "34  RT @ThePratOfficial: @sarkar_swati @maidros78 ...  "
      ]
     },
     "execution_count": 27,
     "metadata": {},
     "output_type": "execute_result"
    }
   ],
   "source": [
    "df"
   ]
  },
  {
   "cell_type": "code",
   "execution_count": 28,
   "metadata": {},
   "outputs": [
    {
     "data": {
      "text/plain": [
       "0     RT @PeterSweden7: Canada🇨🇦: They are arresting...\n",
       "1     RT @YungYinkv: A young lady and I both walked ...\n",
       "2     RT @welovejennalove: 🎉🎈Wow! 30k followers. Tha...\n",
       "3     RT @raufsissay: Yes. She has a valid point. Bu...\n",
       "4     RT @welovejennalove: 🎉🎈Wow! 30k followers. Tha...\n",
       "5     RT @XAG_official: #RuralWomen play a vital rol...\n",
       "6     RT @KhaosodEnglish: Jay Fai, at last, we see e...\n",
       "7     how the hell did i not get food poisining or f...\n",
       "8     RT @sammielee46: Still no ambulance for my 86 ...\n",
       "9     RT @harperjones69: Grab my hips and make me sc...\n",
       "10    RT @misscelebrian: Grab them. https://t.co/8a8...\n",
       "11    RT @sammielee46: Still no ambulance for my 86 ...\n",
       "12    That time when I was in BBC Good Food magazine...\n",
       "13    Enough of condemnation, denunciation, you &amp...\n",
       "14    RT @ZeroWisdom: Crazy:B order\\n\\nRinne : don't...\n",
       "15    RT @Mahi_GA: No food. No medicine.\\nNo banks. ...\n",
       "16    RT @citizen_uganda: 𝗔𝗴𝗿𝗼-𝘀𝗲𝗰𝘂𝗿𝗶𝘁𝘆:This award w...\n",
       "17    As I recall,I'm not good at making Japanese gr...\n",
       "18    RT @DarthKonji_Sen: Say you’re the oldest daug...\n",
       "19    Fun and delicious food walk in Porto. #handcra...\n",
       "20    RT @BathalaX: Loving this article from the @ph...\n",
       "21    RT @TheQueenIdaa: Please don't scroll past thi...\n",
       "22    RT @KonaseemaRebels: Amalapuram ( East Godavar...\n",
       "23    Some great initiatives to solve this problem &...\n",
       "24    RT @TCwll: A very welcome development from @sc...\n",
       "25    @Reuters North Korea continues to manufacture ...\n",
       "26      putting garlic up your ass is kinda a safe food\n",
       "27    RT @_DavidCWade: My book The amazing adventure...\n",
       "28    @KennlitoeWanji2 @amerix Hey sir thanks for yo...\n",
       "29                                       I never had🤔☺️\n",
       "30    :(((( tauuuuuu korang busy :(((( don’t skip yo...\n",
       "31    fast food really make me feel like i’m being c...\n",
       "32                   H-3 close pre-order, grab it fast🔥\n",
       "33    RT @90spictures_: 90’s anime food https://t.co...\n",
       "34    RT @ThePratOfficial: @sarkar_swati @maidros78 ...\n",
       "Name: text, dtype: object"
      ]
     },
     "execution_count": 28,
     "metadata": {},
     "output_type": "execute_result"
    }
   ],
   "source": [
    "df.text"
   ]
  },
  {
   "cell_type": "code",
   "execution_count": 32,
   "metadata": {},
   "outputs": [
    {
     "data": {
      "text/plain": [
       "0     canada they are arresting pastors crime having...\n",
       "1     young lady i both walked into establishment wi...\n",
       "2     wow 30k followers thank you supporting this pa...\n",
       "3     yes she has valid point but people also need s...\n",
       "4     wow 30k followers thank you supporting this pa...\n",
       "5     play vital role providing us with diverse suff...\n",
       "6     jay fai at last we see each other plain contin...\n",
       "7     how hell did i not get food poisining or felt ...\n",
       "8     still no ambulance my 86 year old grandad he s...\n",
       "9                           grab my hips make me scream\n",
       "10                                            grab them\n",
       "11    still no ambulance my 86 year old grandad he s...\n",
       "12          that time when i was bbc good food magazine\n",
       "13    enough condemnation denunciation you amp secur...\n",
       "14    crazy b order rinne dont contact ur brother ni...\n",
       "15    no food no medicine no banks no electricity no...\n",
       "16    this award will value innovations agro process...\n",
       "17    as i recall im not good at making japanese gri...\n",
       "18    say you re oldest daughter without saying you ...\n",
       "19         fun delicious food walk porto porto portugal\n",
       "20    loving this article about how helps filipinos ...\n",
       "21    please dont scroll past this without retweetin...\n",
       "22    amalapuram east godavari bday plans 10 30 cake...\n",
       "23    some great initiatives solve this problem amp ...\n",
       "24    very welcome development with this current con...\n",
       "25    north korea continues manufacture weapons miss...\n",
       "26        putting garlic up your ass is kinda safe food\n",
       "27    my book amazing adventures timmy amp jack is c...\n",
       "28    hey sir thanks your interest we are both locat...\n",
       "29                                          i never had\n",
       "30    tauuuuuu korang busy don t skip your food rest...\n",
       "31    fast food really make me feel like i m being c...\n",
       "32                     h 3 close pre order grab it fast\n",
       "33                                      90 s anime food\n",
       "34    left media intelligentia would like you believ...\n",
       "Name: text, dtype: object"
      ]
     },
     "execution_count": 32,
     "metadata": {},
     "output_type": "execute_result"
    }
   ],
   "source": [
    "df.text.apply(clean_tweet)"
   ]
  },
  {
   "cell_type": "code",
   "execution_count": null,
   "metadata": {},
   "outputs": [],
   "source": []
  }
 ],
 "metadata": {
  "kernelspec": {
   "display_name": "Python 3",
   "language": "python",
   "name": "python3"
  },
  "language_info": {
   "codemirror_mode": {
    "name": "ipython",
    "version": 3
   },
   "file_extension": ".py",
   "mimetype": "text/x-python",
   "name": "python",
   "nbconvert_exporter": "python",
   "pygments_lexer": "ipython3",
   "version": "3.7.6"
  }
 },
 "nbformat": 4,
 "nbformat_minor": 4
}
