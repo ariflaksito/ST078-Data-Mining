{
 "cells": [
  {
   "cell_type": "code",
   "execution_count": 10,
   "metadata": {},
   "outputs": [
    {
     "name": "stdout",
     "output_type": "stream",
     "text": [
      "MSE : 0.0400\n",
      "RMSE : 0.2000\n",
      "MAE : 0.1714\n"
     ]
    }
   ],
   "source": [
    "from sklearn.metrics import mean_squared_error\n",
    "from sklearn.metrics import mean_absolute_error\n",
    "\n",
    "expected = [0.9,1.0,1.0,0.8,1.0,0.9,0.9]\n",
    "predicted = [0.7,0.8,0.7,0.7,0.9,0.9,0.6]\n",
    "\n",
    "# calculate errors\n",
    "mse = mean_squared_error(expected, predicted)\n",
    "rmse = mean_squared_error(expected, predicted, squared=False)\n",
    "mae = mean_absolute_error(expected, predicted)\n",
    "\n",
    "print('MSE : %.4f' % mse)\n",
    "print('RMSE : %.4f' % rmse)\n",
    "print('MAE : %.4f' % mae)"
   ]
  },
  {
   "cell_type": "code",
   "execution_count": null,
   "metadata": {},
   "outputs": [],
   "source": []
  }
 ],
 "metadata": {
  "kernelspec": {
   "display_name": "Python 3",
   "language": "python",
   "name": "python3"
  },
  "language_info": {
   "codemirror_mode": {
    "name": "ipython",
    "version": 3
   },
   "file_extension": ".py",
   "mimetype": "text/x-python",
   "name": "python",
   "nbconvert_exporter": "python",
   "pygments_lexer": "ipython3",
   "version": "3.7.6"
  }
 },
 "nbformat": 4,
 "nbformat_minor": 4
}
