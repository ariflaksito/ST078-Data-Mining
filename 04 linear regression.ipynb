{
 "cells": [
  {
   "cell_type": "markdown",
   "metadata": {},
   "source": [
    "# Linear Regression"
   ]
  },
  {
   "cell_type": "markdown",
   "metadata": {},
   "source": [
    "## Univariate Linear"
   ]
  },
  {
   "cell_type": "code",
   "execution_count": 56,
   "metadata": {},
   "outputs": [],
   "source": [
    "import numpy as np\n",
    "import pandas as pd\n",
    "from matplotlib import pyplot as plt\n",
    "from sklearn.linear_model import LinearRegression"
   ]
  },
  {
   "cell_type": "code",
   "execution_count": 57,
   "metadata": {},
   "outputs": [
    {
     "name": "stdout",
     "output_type": "stream",
     "text": [
      "   x  y\n",
      "0  8  7\n",
      "1  2  3\n",
      "2  6  7\n",
      "3  4  2\n",
      "4  7  8\n",
      "5  3  3\n"
     ]
    }
   ],
   "source": [
    "# Definisikan dataset \n",
    "df = pd.DataFrame([[8,7],[2,3],[6,7],[4,2],[7,8],[3,3]])\n",
    "df.columns = ['x', 'y']\n",
    "print(df)"
   ]
  },
  {
   "cell_type": "code",
   "execution_count": 58,
   "metadata": {},
   "outputs": [],
   "source": [
    "X_train = df['x'].values[:, np.newaxis]\n",
    "y_train = df['y'].values"
   ]
  },
  {
   "cell_type": "code",
   "execution_count": 59,
   "metadata": {},
   "outputs": [
    {
     "data": {
      "text/plain": [
       "LinearRegression()"
      ]
     },
     "execution_count": 59,
     "metadata": {},
     "output_type": "execute_result"
    }
   ],
   "source": [
    "# Create & train model\n",
    "lm = LinearRegression()\n",
    "lm.fit(X_train, y_train)"
   ]
  },
  {
   "cell_type": "code",
   "execution_count": 60,
   "metadata": {},
   "outputs": [
    {
     "name": "stdout",
     "output_type": "stream",
     "text": [
      "Coeficient:  [0.96428571]\n",
      "Intercept:  0.1785714285714297\n"
     ]
    }
   ],
   "source": [
    "# Menampilkan nilai coef & intercept\n",
    "print('Coeficient: ', lm.coef_)\n",
    "print('Intercept: ', lm.intercept_)"
   ]
  },
  {
   "cell_type": "code",
   "execution_count": 61,
   "metadata": {},
   "outputs": [
    {
     "data": {
      "image/png": "[encoded data removed]",
      "text/plain": [
       "<Figure size 432x288 with 1 Axes>"
      ]
     },
     "metadata": {
      "needs_background": "light"
     },
     "output_type": "display_data"
    }
   ],
   "source": [
    "pb = lm.predict(X_train)\n",
    "dfc = pd.DataFrame({'x': df['x'],'y':pb})\n",
    "\n",
    "plt.scatter(df['x'],df['y'])\n",
    "plt.plot(dfc['x'],dfc['y'],color='red',linewidth=1)\n",
    "plt.xlabel('Memory')\n",
    "plt.ylabel('Price')\n",
    "plt.grid()\n",
    "plt.show()"
   ]
  },
  {
   "cell_type": "markdown",
   "metadata": {},
   "source": [
    "## Exercise"
   ]
  },
  {
   "cell_type": "code",
   "execution_count": 62,
   "metadata": {},
   "outputs": [
    {
     "name": "stdout",
     "output_type": "stream",
     "text": [
      "    x    y\n",
      "0  28  127\n",
      "1  45  160\n",
      "2  43  158\n",
      "3  65  167\n",
      "4  46  163\n",
      "5  37  142\n"
     ]
    }
   ],
   "source": [
    "df = pd.DataFrame([[28,127],[45,160],[43,158],[65,167],[46,163],[37,142]])\n",
    "df.columns = ['x', 'y']\n",
    "print(df)"
   ]
  },
  {
   "cell_type": "code",
   "execution_count": 63,
   "metadata": {},
   "outputs": [],
   "source": [
    "X_train = df['x'].values[:, np.newaxis]\n",
    "y_train = df['y'].values"
   ]
  },
  {
   "cell_type": "code",
   "execution_count": 64,
   "metadata": {},
   "outputs": [
    {
     "data": {
      "text/plain": [
       "LinearRegression()"
      ]
     },
     "execution_count": 64,
     "metadata": {},
     "output_type": "execute_result"
    }
   ],
   "source": [
    "lm = LinearRegression()\n",
    "lm.fit(X_train, y_train)"
   ]
  },
  {
   "cell_type": "code",
   "execution_count": 65,
   "metadata": {},
   "outputs": [
    {
     "name": "stdout",
     "output_type": "stream",
     "text": [
      "Coeficient:  [1.07579787]\n",
      "Intercept:  105.49822695035463\n"
     ]
    }
   ],
   "source": [
    "print('Coeficient: ', lm.coef_)\n",
    "print('Intercept: ', lm.intercept_)"
   ]
  },
  {
   "cell_type": "code",
   "execution_count": 66,
   "metadata": {},
   "outputs": [],
   "source": [
    "X_test = [[15], [32]]"
   ]
  },
  {
   "cell_type": "code",
   "execution_count": 67,
   "metadata": {},
   "outputs": [
    {
     "name": "stdout",
     "output_type": "stream",
     "text": [
      "[121.63519504 139.92375887]\n"
     ]
    }
   ],
   "source": [
    "p = lm.predict(X_test)\n",
    "print(p)"
   ]
  },
  {
   "cell_type": "code",
   "execution_count": 68,
   "metadata": {},
   "outputs": [
    {
     "data": {
      "image/png": "[encoded data removed]",
      "text/plain": [
       "<Figure size 432x288 with 1 Axes>"
      ]
     },
     "metadata": {
      "needs_background": "light"
     },
     "output_type": "display_data"
    }
   ],
   "source": [
    "pb = lm.predict(X_train)\n",
    "dfc = pd.DataFrame({'x': df['x'],'y':pb})\n",
    "\n",
    "plt.scatter(df['x'],df['y'])\n",
    "plt.plot(dfc['x'],dfc['y'],color='red',linewidth=1)\n",
    "plt.xlabel('Memory')\n",
    "plt.ylabel('Price')\n",
    "plt.grid()\n",
    "plt.show()"
   ]
  },
  {
   "cell_type": "markdown",
   "metadata": {},
   "source": [
    "## Multivariate Linear"
   ]
  },
  {
   "cell_type": "code",
   "execution_count": 69,
   "metadata": {},
   "outputs": [
    {
     "data": {
      "text/html": [
       "<div>\n",
       "<style scoped>\n",
       "    .dataframe tbody tr th:only-of-type {\n",
       "        vertical-align: middle;\n",
       "    }\n",
       "\n",
       "    .dataframe tbody tr th {\n",
       "        vertical-align: top;\n",
       "    }\n",
       "\n",
       "    .dataframe thead th {\n",
       "        text-align: right;\n",
       "    }\n",
       "</style>\n",
       "<table border=\"1\" class=\"dataframe\">\n",
       "  <thead>\n",
       "    <tr style=\"text-align: right;\">\n",
       "      <th></th>\n",
       "      <th>luas</th>\n",
       "      <th>curah_hujan</th>\n",
       "      <th>hama</th>\n",
       "      <th>hasil</th>\n",
       "    </tr>\n",
       "    <tr>\n",
       "      <th>bulan</th>\n",
       "      <th></th>\n",
       "      <th></th>\n",
       "      <th></th>\n",
       "      <th></th>\n",
       "    </tr>\n",
       "  </thead>\n",
       "  <tbody>\n",
       "    <tr>\n",
       "      <th>Bulan Tanam</th>\n",
       "      <td>Luas Panen (X1)</td>\n",
       "      <td>Curah Hujan (X2)</td>\n",
       "      <td>Hama (X3)</td>\n",
       "      <td>Hasil Panen</td>\n",
       "    </tr>\n",
       "    <tr>\n",
       "      <th>Jan – Apr 2009</th>\n",
       "      <td>14210</td>\n",
       "      <td>Baik (10)</td>\n",
       "      <td>10.70%</td>\n",
       "      <td>91862</td>\n",
       "    </tr>\n",
       "    <tr>\n",
       "      <th>Mei – Ags 2009</th>\n",
       "      <td>10863</td>\n",
       "      <td>Kurang (-20)</td>\n",
       "      <td>12%</td>\n",
       "      <td>68244</td>\n",
       "    </tr>\n",
       "    <tr>\n",
       "      <th>Sep – Des 2009</th>\n",
       "      <td>3185</td>\n",
       "      <td>Kurang (-20)</td>\n",
       "      <td>11.90%</td>\n",
       "      <td>22737</td>\n",
       "    </tr>\n",
       "    <tr>\n",
       "      <th>Jan – Apr 2010</th>\n",
       "      <td>12254</td>\n",
       "      <td>Baik (10)</td>\n",
       "      <td>5.90%</td>\n",
       "      <td>81121</td>\n",
       "    </tr>\n",
       "    <tr>\n",
       "      <th>Mei – Ags 2010</th>\n",
       "      <td>11851</td>\n",
       "      <td>Kurang (-20)</td>\n",
       "      <td>75%</td>\n",
       "      <td>63034</td>\n",
       "    </tr>\n",
       "    <tr>\n",
       "      <th>Sep – Des 2010</th>\n",
       "      <td>6621</td>\n",
       "      <td>Baik (10)</td>\n",
       "      <td>14.50%</td>\n",
       "      <td>46201</td>\n",
       "    </tr>\n",
       "    <tr>\n",
       "      <th>Jan – Apr 2011</th>\n",
       "      <td>13388</td>\n",
       "      <td>Baik (10)</td>\n",
       "      <td>7.50%</td>\n",
       "      <td>87552</td>\n",
       "    </tr>\n",
       "    <tr>\n",
       "      <th>Mei – Ags 2011</th>\n",
       "      <td>12708</td>\n",
       "      <td>Kurang (-20)</td>\n",
       "      <td>23.70%</td>\n",
       "      <td>77131</td>\n",
       "    </tr>\n",
       "    <tr>\n",
       "      <th>Sep – Des 2011</th>\n",
       "      <td>4603</td>\n",
       "      <td>Baik (10)</td>\n",
       "      <td>19.70%</td>\n",
       "      <td>33321</td>\n",
       "    </tr>\n",
       "    <tr>\n",
       "      <th>Jan – Apr 2012</th>\n",
       "      <td>13355</td>\n",
       "      <td>Baik (10)</td>\n",
       "      <td>1.90%</td>\n",
       "      <td>88343</td>\n",
       "    </tr>\n",
       "    <tr>\n",
       "      <th>Mei – Ags 2012</th>\n",
       "      <td>12291</td>\n",
       "      <td>Optimal (20)</td>\n",
       "      <td>7.20%</td>\n",
       "      <td>82286</td>\n",
       "    </tr>\n",
       "    <tr>\n",
       "      <th>Sep – Des 2012</th>\n",
       "      <td>4559</td>\n",
       "      <td>Normal (0)</td>\n",
       "      <td>4%</td>\n",
       "      <td>34635</td>\n",
       "    </tr>\n",
       "    <tr>\n",
       "      <th>Jan – Apr 2013</th>\n",
       "      <td>13102</td>\n",
       "      <td>Baik (10)</td>\n",
       "      <td>10.50%</td>\n",
       "      <td>85337</td>\n",
       "    </tr>\n",
       "    <tr>\n",
       "      <th>Mei – Ags 2013</th>\n",
       "      <td>12393</td>\n",
       "      <td>Kurang (-20)</td>\n",
       "      <td>30.80%</td>\n",
       "      <td>74008</td>\n",
       "    </tr>\n",
       "    <tr>\n",
       "      <th>Sep – Des 2013</th>\n",
       "      <td>7197</td>\n",
       "      <td>Normal (0)</td>\n",
       "      <td>5.50%</td>\n",
       "      <td>50019</td>\n",
       "    </tr>\n",
       "    <tr>\n",
       "      <th>Jan – Apr 2014</th>\n",
       "      <td>13596</td>\n",
       "      <td>Baik (10)</td>\n",
       "      <td>27.60%</td>\n",
       "      <td>85263</td>\n",
       "    </tr>\n",
       "    <tr>\n",
       "      <th>Mei – Ags 2014</th>\n",
       "      <td>11167</td>\n",
       "      <td>Baik (10)</td>\n",
       "      <td>7.90%</td>\n",
       "      <td>74316</td>\n",
       "    </tr>\n",
       "    <tr>\n",
       "      <th>Sep – Des 2014</th>\n",
       "      <td>5424</td>\n",
       "      <td>Kurang (-20)</td>\n",
       "      <td>27.50%</td>\n",
       "      <td>33268</td>\n",
       "    </tr>\n",
       "    <tr>\n",
       "      <th>Jan – Apr 2015</th>\n",
       "      <td>13006</td>\n",
       "      <td>Baik (10)</td>\n",
       "      <td>1%</td>\n",
       "      <td>86431</td>\n",
       "    </tr>\n",
       "    <tr>\n",
       "      <th>Mei – Ags 2015</th>\n",
       "      <td>11169</td>\n",
       "      <td>Kurang (-20)</td>\n",
       "      <td>11.50%</td>\n",
       "      <td>70152</td>\n",
       "    </tr>\n",
       "    <tr>\n",
       "      <th>Sep – Des 2015</th>\n",
       "      <td>5467</td>\n",
       "      <td>Optimal (20)</td>\n",
       "      <td>3%</td>\n",
       "      <td>42561</td>\n",
       "    </tr>\n",
       "    <tr>\n",
       "      <th>Jan – Apr 2016</th>\n",
       "      <td>12149</td>\n",
       "      <td>Baik (10)</td>\n",
       "      <td>26%</td>\n",
       "      <td>76962</td>\n",
       "    </tr>\n",
       "    <tr>\n",
       "      <th>Mei – Ags 2016</th>\n",
       "      <td>12338</td>\n",
       "      <td>Kurang (-20)</td>\n",
       "      <td>55%</td>\n",
       "      <td>69432</td>\n",
       "    </tr>\n",
       "    <tr>\n",
       "      <th>Sep – Des 2016</th>\n",
       "      <td>5522</td>\n",
       "      <td>Normal (0)</td>\n",
       "      <td>24.10%</td>\n",
       "      <td>36812</td>\n",
       "    </tr>\n",
       "    <tr>\n",
       "      <th>Jan – Apr 2017</th>\n",
       "      <td>13088</td>\n",
       "      <td>Optimal (20)</td>\n",
       "      <td>1%</td>\n",
       "      <td>88102</td>\n",
       "    </tr>\n",
       "    <tr>\n",
       "      <th>Mei – Ags 2017</th>\n",
       "      <td>12292</td>\n",
       "      <td>Kurang (-20)</td>\n",
       "      <td>60.90%</td>\n",
       "      <td>68126</td>\n",
       "    </tr>\n",
       "    <tr>\n",
       "      <th>Sep – Des 2017</th>\n",
       "      <td>4645</td>\n",
       "      <td>Kurang (-20)</td>\n",
       "      <td>40.50%</td>\n",
       "      <td>26374</td>\n",
       "    </tr>\n",
       "  </tbody>\n",
       "</table>\n",
       "</div>"
      ],
      "text/plain": [
       "                           luas       curah_hujan       hama        hasil\n",
       "bulan                                                                    \n",
       "Bulan Tanam     Luas Panen (X1)  Curah Hujan (X2)  Hama (X3)  Hasil Panen\n",
       "Jan – Apr 2009            14210         Baik (10)     10.70%        91862\n",
       "Mei – Ags 2009            10863      Kurang (-20)        12%        68244\n",
       "Sep – Des 2009             3185      Kurang (-20)     11.90%        22737\n",
       "Jan – Apr 2010            12254         Baik (10)      5.90%        81121\n",
       "Mei – Ags 2010            11851      Kurang (-20)        75%        63034\n",
       "Sep – Des 2010             6621         Baik (10)     14.50%        46201\n",
       "Jan – Apr 2011            13388         Baik (10)      7.50%        87552\n",
       "Mei – Ags 2011            12708      Kurang (-20)     23.70%        77131\n",
       "Sep – Des 2011             4603         Baik (10)     19.70%        33321\n",
       "Jan – Apr 2012            13355         Baik (10)      1.90%        88343\n",
       "Mei – Ags 2012            12291      Optimal (20)      7.20%        82286\n",
       "Sep – Des 2012             4559        Normal (0)         4%        34635\n",
       "Jan – Apr 2013            13102         Baik (10)     10.50%        85337\n",
       "Mei – Ags 2013            12393      Kurang (-20)     30.80%        74008\n",
       "Sep – Des 2013             7197        Normal (0)      5.50%        50019\n",
       "Jan – Apr 2014            13596         Baik (10)     27.60%        85263\n",
       "Mei – Ags 2014            11167         Baik (10)      7.90%        74316\n",
       "Sep – Des 2014             5424      Kurang (-20)     27.50%        33268\n",
       "Jan – Apr 2015            13006         Baik (10)         1%        86431\n",
       "Mei – Ags 2015            11169      Kurang (-20)     11.50%        70152\n",
       "Sep – Des 2015             5467      Optimal (20)         3%        42561\n",
       "Jan – Apr 2016            12149         Baik (10)        26%        76962\n",
       "Mei – Ags 2016            12338      Kurang (-20)        55%        69432\n",
       "Sep – Des 2016             5522        Normal (0)     24.10%        36812\n",
       "Jan – Apr 2017            13088      Optimal (20)         1%        88102\n",
       "Mei – Ags 2017            12292      Kurang (-20)     60.90%        68126\n",
       "Sep – Des 2017             4645      Kurang (-20)     40.50%        26374"
      ]
     },
     "execution_count": 69,
     "metadata": {},
     "output_type": "execute_result"
    }
   ],
   "source": [
    "df_padi = pd.read_csv('datapadi.csv', sep=';', names=['bulan','luas','curah_hujan','hama','hasil'], index_col='bulan')\n",
    "df_padi"
   ]
  },
  {
   "cell_type": "code",
   "execution_count": 70,
   "metadata": {},
   "outputs": [],
   "source": [
    "# Hapus data header\n",
    "df_padi.drop(['Bulan Tanam'], inplace=True)"
   ]
  },
  {
   "cell_type": "code",
   "execution_count": 71,
   "metadata": {},
   "outputs": [
    {
     "data": {
      "text/html": [
       "<div>\n",
       "<style scoped>\n",
       "    .dataframe tbody tr th:only-of-type {\n",
       "        vertical-align: middle;\n",
       "    }\n",
       "\n",
       "    .dataframe tbody tr th {\n",
       "        vertical-align: top;\n",
       "    }\n",
       "\n",
       "    .dataframe thead th {\n",
       "        text-align: right;\n",
       "    }\n",
       "</style>\n",
       "<table border=\"1\" class=\"dataframe\">\n",
       "  <thead>\n",
       "    <tr style=\"text-align: right;\">\n",
       "      <th></th>\n",
       "      <th>luas</th>\n",
       "      <th>curah_hujan</th>\n",
       "      <th>hama</th>\n",
       "      <th>hasil</th>\n",
       "    </tr>\n",
       "    <tr>\n",
       "      <th>bulan</th>\n",
       "      <th></th>\n",
       "      <th></th>\n",
       "      <th></th>\n",
       "      <th></th>\n",
       "    </tr>\n",
       "  </thead>\n",
       "  <tbody>\n",
       "    <tr>\n",
       "      <th>Jan – Apr 2009</th>\n",
       "      <td>14210</td>\n",
       "      <td>Baik (10)</td>\n",
       "      <td>10.70%</td>\n",
       "      <td>91862</td>\n",
       "    </tr>\n",
       "    <tr>\n",
       "      <th>Mei – Ags 2009</th>\n",
       "      <td>10863</td>\n",
       "      <td>Kurang (-20)</td>\n",
       "      <td>12%</td>\n",
       "      <td>68244</td>\n",
       "    </tr>\n",
       "    <tr>\n",
       "      <th>Sep – Des 2009</th>\n",
       "      <td>3185</td>\n",
       "      <td>Kurang (-20)</td>\n",
       "      <td>11.90%</td>\n",
       "      <td>22737</td>\n",
       "    </tr>\n",
       "    <tr>\n",
       "      <th>Jan – Apr 2010</th>\n",
       "      <td>12254</td>\n",
       "      <td>Baik (10)</td>\n",
       "      <td>5.90%</td>\n",
       "      <td>81121</td>\n",
       "    </tr>\n",
       "    <tr>\n",
       "      <th>Mei – Ags 2010</th>\n",
       "      <td>11851</td>\n",
       "      <td>Kurang (-20)</td>\n",
       "      <td>75%</td>\n",
       "      <td>63034</td>\n",
       "    </tr>\n",
       "  </tbody>\n",
       "</table>\n",
       "</div>"
      ],
      "text/plain": [
       "                 luas   curah_hujan    hama  hasil\n",
       "bulan                                             \n",
       "Jan – Apr 2009  14210     Baik (10)  10.70%  91862\n",
       "Mei – Ags 2009  10863  Kurang (-20)     12%  68244\n",
       "Sep – Des 2009   3185  Kurang (-20)  11.90%  22737\n",
       "Jan – Apr 2010  12254     Baik (10)   5.90%  81121\n",
       "Mei – Ags 2010  11851  Kurang (-20)     75%  63034"
      ]
     },
     "execution_count": 71,
     "metadata": {},
     "output_type": "execute_result"
    }
   ],
   "source": [
    "df_padi.head()"
   ]
  },
  {
   "cell_type": "code",
   "execution_count": 72,
   "metadata": {},
   "outputs": [],
   "source": [
    "# Bersihkan data curah hujan\n",
    "df_padi['curah_hujan'] = df_padi.curah_hujan.str.extract('(-?\\d+)') "
   ]
  },
  {
   "cell_type": "code",
   "execution_count": 73,
   "metadata": {},
   "outputs": [],
   "source": [
    "# Bersihkan data hama\n",
    "df_padi['hama'] = df_padi.apply(lambda x:x['hama'][:-1], axis=1)"
   ]
  },
  {
   "cell_type": "code",
   "execution_count": 74,
   "metadata": {},
   "outputs": [],
   "source": [
    "# Convert to number(int, float)\n",
    "df_padi[\"luas\"] = df_padi.luas.astype(int)\n",
    "df_padi[\"curah_hujan\"] = df_padi.curah_hujan.astype(int)\n",
    "df_padi[\"hama\"] = df_padi.hama.astype(float)\n",
    "df_padi[\"hasil\"] = df_padi.hasil.astype(int)"
   ]
  },
  {
   "cell_type": "code",
   "execution_count": 75,
   "metadata": {},
   "outputs": [
    {
     "data": {
      "text/html": [
       "<div>\n",
       "<style scoped>\n",
       "    .dataframe tbody tr th:only-of-type {\n",
       "        vertical-align: middle;\n",
       "    }\n",
       "\n",
       "    .dataframe tbody tr th {\n",
       "        vertical-align: top;\n",
       "    }\n",
       "\n",
       "    .dataframe thead th {\n",
       "        text-align: right;\n",
       "    }\n",
       "</style>\n",
       "<table border=\"1\" class=\"dataframe\">\n",
       "  <thead>\n",
       "    <tr style=\"text-align: right;\">\n",
       "      <th></th>\n",
       "      <th>luas</th>\n",
       "      <th>curah_hujan</th>\n",
       "      <th>hama</th>\n",
       "      <th>hasil</th>\n",
       "    </tr>\n",
       "    <tr>\n",
       "      <th>bulan</th>\n",
       "      <th></th>\n",
       "      <th></th>\n",
       "      <th></th>\n",
       "      <th></th>\n",
       "    </tr>\n",
       "  </thead>\n",
       "  <tbody>\n",
       "    <tr>\n",
       "      <th>Jan – Apr 2009</th>\n",
       "      <td>14210</td>\n",
       "      <td>10</td>\n",
       "      <td>10.7</td>\n",
       "      <td>91862</td>\n",
       "    </tr>\n",
       "    <tr>\n",
       "      <th>Mei – Ags 2009</th>\n",
       "      <td>10863</td>\n",
       "      <td>-20</td>\n",
       "      <td>12.0</td>\n",
       "      <td>68244</td>\n",
       "    </tr>\n",
       "    <tr>\n",
       "      <th>Sep – Des 2009</th>\n",
       "      <td>3185</td>\n",
       "      <td>-20</td>\n",
       "      <td>11.9</td>\n",
       "      <td>22737</td>\n",
       "    </tr>\n",
       "    <tr>\n",
       "      <th>Jan – Apr 2010</th>\n",
       "      <td>12254</td>\n",
       "      <td>10</td>\n",
       "      <td>5.9</td>\n",
       "      <td>81121</td>\n",
       "    </tr>\n",
       "    <tr>\n",
       "      <th>Mei – Ags 2010</th>\n",
       "      <td>11851</td>\n",
       "      <td>-20</td>\n",
       "      <td>75.0</td>\n",
       "      <td>63034</td>\n",
       "    </tr>\n",
       "  </tbody>\n",
       "</table>\n",
       "</div>"
      ],
      "text/plain": [
       "                 luas  curah_hujan  hama  hasil\n",
       "bulan                                          \n",
       "Jan – Apr 2009  14210           10  10.7  91862\n",
       "Mei – Ags 2009  10863          -20  12.0  68244\n",
       "Sep – Des 2009   3185          -20  11.9  22737\n",
       "Jan – Apr 2010  12254           10   5.9  81121\n",
       "Mei – Ags 2010  11851          -20  75.0  63034"
      ]
     },
     "execution_count": 75,
     "metadata": {},
     "output_type": "execute_result"
    }
   ],
   "source": [
    "df_padi.head()"
   ]
  },
  {
   "cell_type": "code",
   "execution_count": 76,
   "metadata": {},
   "outputs": [
    {
     "data": {
      "text/plain": [
       "27"
      ]
     },
     "execution_count": 76,
     "metadata": {},
     "output_type": "execute_result"
    }
   ],
   "source": [
    "len(df_padi)"
   ]
  },
  {
   "cell_type": "code",
   "execution_count": 77,
   "metadata": {},
   "outputs": [],
   "source": [
    "# Membagi dataset (Terdapat 27 rows: Train 21 rows, test 6 rows)\n",
    "train = df_padi[:21]\n",
    "test = df_padi[21:]"
   ]
  },
  {
   "cell_type": "code",
   "execution_count": 78,
   "metadata": {},
   "outputs": [
    {
     "name": "stdout",
     "output_type": "stream",
     "text": [
      "(21, 4)\n",
      "(6, 4)\n"
     ]
    }
   ],
   "source": [
    "print(train.shape)\n",
    "print(test.shape)"
   ]
  },
  {
   "cell_type": "code",
   "execution_count": 79,
   "metadata": {},
   "outputs": [],
   "source": [
    "X_train = train[['luas','curah_hujan','hama']]\n",
    "y_train = train['hasil']"
   ]
  },
  {
   "cell_type": "code",
   "execution_count": 80,
   "metadata": {},
   "outputs": [
    {
     "data": {
      "text/plain": [
       "LinearRegression()"
      ]
     },
     "execution_count": 80,
     "metadata": {},
     "output_type": "execute_result"
    }
   ],
   "source": [
    "# Membuat & melatih Model\n",
    "regr = LinearRegression()\n",
    "regr.fit(X_train, y_train)"
   ]
  },
  {
   "cell_type": "code",
   "execution_count": 81,
   "metadata": {},
   "outputs": [
    {
     "name": "stdout",
     "output_type": "stream",
     "text": [
      "Intercept: \n",
      " 8306.792151921123\n",
      "Coefficients: \n",
      " [   5.929528    118.27991767 -175.71483753]\n"
     ]
    }
   ],
   "source": [
    "# Mendapatkan nilai coef & intercept\n",
    "print('Intercept: \\n', regr.intercept_)\n",
    "print('Coefficients: \\n', regr.coef_)"
   ]
  },
  {
   "cell_type": "markdown",
   "metadata": {},
   "source": [
    "<pre>y = 5.929528.x1 + 118.27991767.x2 -175.71483753.x3 + 8306.792151921123\n",
    "dimana: luas lahan(x1), curah hujan(x2) dan hama(x3)</pre>"
   ]
  },
  {
   "cell_type": "code",
   "execution_count": 83,
   "metadata": {},
   "outputs": [],
   "source": [
    "X_test = test[['luas','curah_hujan','hama']]\n",
    "y_test = test['hasil']"
   ]
  },
  {
   "cell_type": "code",
   "execution_count": 86,
   "metadata": {},
   "outputs": [
    {
     "data": {
      "text/plain": [
       "array([76958.84119523, 69435.39416824, 36814.91817001, 88102.33809985,\n",
       "       68125.91833895, 26367.40042722])"
      ]
     },
     "execution_count": 86,
     "metadata": {},
     "output_type": "execute_result"
    }
   ],
   "source": [
    "pred = regr.predict(X_test)\n",
    "pred\n",
    "21.21.1541"
   ]
  },
  {
   "cell_type": "code",
   "execution_count": 85,
   "metadata": {},
   "outputs": [
    {
     "name": "stdout",
     "output_type": "stream",
     "text": [
      "bulan\n",
      "Jan – Apr 2016    76962\n",
      "Mei – Ags 2016    69432\n",
      "Sep – Des 2016    36812\n",
      "Jan – Apr 2017    88102\n",
      "Mei – Ags 2017    68126\n",
      "Sep – Des 2017    26374\n",
      "Name: hasil, dtype: int64\n"
     ]
    }
   ],
   "source": [
    "print(y_test)"
   ]
  },
  {
   "cell_type": "code",
   "execution_count": 87,
   "metadata": {},
   "outputs": [
    {
     "name": "stdout",
     "output_type": "stream",
     "text": [
      "3.504508591002036\n"
     ]
    }
   ],
   "source": [
    "# Evaluasi Model\n",
    "from sklearn import metrics\n",
    "\n",
    "rmse = np.sqrt(metrics.mean_squared_error(np.array(y_test), pred))\n",
    "print(rmse)"
   ]
  },
  {
   "cell_type": "code",
   "execution_count": null,
   "metadata": {},
   "outputs": [],
   "source": []
  }
 ],
 "metadata": {
  "kernelspec": {
   "display_name": "Python 3",
   "language": "python",
   "name": "python3"
  },
  "language_info": {
   "codemirror_mode": {
    "name": "ipython",
    "version": 3
   },
   "file_extension": ".py",
   "mimetype": "text/x-python",
   "name": "python",
   "nbconvert_exporter": "python",
   "pygments_lexer": "ipython3",
   "version": "3.7.6"
  }
 },
 "nbformat": 4,
 "nbformat_minor": 4
}
